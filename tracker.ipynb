{
 "metadata": {
  "language_info": {
   "codemirror_mode": {
    "name": "ipython",
    "version": 3
   },
   "file_extension": ".py",
   "mimetype": "text/x-python",
   "name": "python",
   "nbconvert_exporter": "python",
   "pygments_lexer": "ipython3",
   "version": "3.7.6-final"
  },
  "orig_nbformat": 2,
  "kernelspec": {
   "name": "python3",
   "display_name": "Python 3",
   "language": "python"
  }
 },
 "nbformat": 4,
 "nbformat_minor": 2,
 "cells": [
  {
   "cell_type": "code",
   "execution_count": 2,
   "metadata": {},
   "outputs": [],
   "source": [
    "import requests\n",
    "import re\n",
    "from bs4 import BeautifulSoup\n"
   ]
  },
  {
   "cell_type": "code",
   "execution_count": 3,
   "metadata": {},
   "outputs": [],
   "source": [
    "def get_converted_price(price):\n",
    "    converted_price = float(re.sub(r\"[^\\d.]\", \"\", price))\n",
    "    return converted_price"
   ]
  },
  {
   "cell_type": "code",
   "execution_count": 4,
   "metadata": {},
   "outputs": [],
   "source": [
    "def extract_url(url):\n",
    "\n",
    "    if url.find(\"www.amazon.in\") != -1:\n",
    "        index = url.find(\"/dp/\")\n",
    "        if index != -1:\n",
    "            index2 = index + 14\n",
    "            url = \"https://www.amazon.in\" + url[index:index2]\n",
    "        else:\n",
    "            index = url.find(\"/gp/\")\n",
    "            if index != -1:\n",
    "                index2 = index + 22\n",
    "                url = \"https://www.amazon.in\" + url[index:index2]\n",
    "            else:\n",
    "                url = None\n",
    "    else:\n",
    "        url = None\n",
    "    return url\n"
   ]
  },
  {
   "cell_type": "code",
   "execution_count": 5,
   "metadata": {},
   "outputs": [],
   "source": [
    "url=extract_url('https://www.amazon.in/Fossil-Grant-Chronograph-Black-Watch-FS4813/dp/B00AFTTQ8I/ref=sr_1_1_sspa?dchild=1&keywords=watch&qid=1615643196&sr=8-1-spons&psc=1&spLa=ZW5jcnlwdGVkUXVhbGlmaWVyPUFNWjVFNEZOMENaUUMmZW5jcnlwdGVkSWQ9QTAzMDg5MzAzSUhBOVc0STNVVUgmZW5jcnlwdGVkQWRJZD1BMDk1MDE4NzFQNzcwTU5DS0JFTEYmd2lkZ2V0TmFtZT1zcF9hdGYmYWN0aW9uPWNsaWNrUmVkaXJlY3QmZG9Ob3RMb2dDbGljaz10cnVl')\n",
    "url"
   ]
  },
  {
   "cell_type": "code",
   "execution_count": 6,
   "metadata": {},
   "outputs": [
    {
     "output_type": "execute_result",
     "data": {
      "text/plain": [
       "<Response [200]>"
      ]
     },
     "metadata": {},
     "execution_count": 6
    }
   ],
   "source": [
    "headers = {\n",
    "    \"User-Agent\": \"Mozilla/5.0 (X11; Linux x86_64; rv:68.0) Gecko/20100101 Firefox/68.0\"\n",
    "}\n",
    "_url = extract_url(url)\n",
    "page = requests.get(_url, headers=headers)\n",
    "page"
   ]
  },
  {
   "cell_type": "code",
   "execution_count": 7,
   "metadata": {},
   "outputs": [],
   "source": [
    "soup = BeautifulSoup(page.content, \"html5lib\")"
   ]
  },
  {
   "cell_type": "code",
   "execution_count": 8,
   "metadata": {},
   "outputs": [
    {
     "output_type": "execute_result",
     "data": {
      "text/plain": [
       "\"\\n\\n\\n\\n\\n\\n\\n\\nFossil Men's Analogue Black Dial Watch\\n\\n\\n\\n\\n\\n\\n\""
      ]
     },
     "metadata": {},
     "execution_count": 8
    }
   ],
   "source": [
    "details = {\"name\": \"\", \"price\": 0, \"deal\": True, \"url\": \"\"}\n",
    "\n",
    "title = soup.find(id=\"productTitle\")\n",
    "title.text"
   ]
  },
  {
   "cell_type": "code",
   "execution_count": 9,
   "metadata": {},
   "outputs": [],
   "source": [
    "price = soup.find(id=\"priceblock_dealprice\")\n",
    "if price is None:\n",
    "    price = soup.find(id=\"priceblock_ourprice\")\n",
    "    details[\"deal\"] = False\n",
    "# stock = soup.find(id='outOfStock').find('span',{'class':'a-text-bold'})\n",
    "# print(stock.text.strip())"
   ]
  },
  {
   "cell_type": "code",
   "execution_count": 10,
   "metadata": {},
   "outputs": [
    {
     "output_type": "stream",
     "name": "stdout",
     "text": [
      "{'name': \"Fossil Men's Analogue Black Dial Watch\", 'price': 7995.0, 'deal': False, 'url': 'https://www.amazon.in/dp/B00AFTTQ8I'}\n"
     ]
    }
   ],
   "source": [
    "if title is not None and price is not None:\n",
    "    details[\"name\"] = title.get_text().strip()\n",
    "    details[\"price\"] = get_converted_price(price.get_text())\n",
    "    details[\"url\"] = _url\n",
    "print(details)"
   ]
  },
  {
   "cell_type": "code",
   "execution_count": 24,
   "metadata": {},
   "outputs": [],
   "source": [
    "import time\n",
    "\n",
    "def extract_data(url):\n",
    "    \n",
    "    # blank dict\n",
    "    details = {\"name\": \"\", \"price\": 0, \"deal\": True, \"url\": \"\"}\n",
    "    \n",
    "    # fake header\n",
    "    headers = {\n",
    "    \"User-Agent\": \"Mozilla/5.0 (X11; Linux x86_64; rv:68.0) Gecko/20100101 Firefox/68.0\"\n",
    "    }\n",
    "\n",
    "    # get clean url\n",
    "    _url = extract_url(url)\n",
    "    page = requests.get(_url, headers=headers)\n",
    "    soup = BeautifulSoup(page.content, \"html5lib\")\n",
    "    # get data\n",
    "    title = soup.find(id=\"productTitle\")\n",
    "    price = soup.find(id=\"priceblock_dealprice\")\n",
    "    if price is None:\n",
    "        price = soup.find(id=\"priceblock_ourprice\")\n",
    "        details[\"deal\"] = False\n",
    "    \n",
    "    # if data is collected\n",
    "    if title is not None and price is not None:\n",
    "        details[\"name\"] = title.get_text().strip()\n",
    "        details[\"price\"] = get_converted_price(price.get_text())\n",
    "        details[\"url\"] = _url\n",
    "    return details\n",
    "\n",
    "def run_tracker(product_url):\n",
    "    details = extract_data(product_url)\n",
    "    print('tracking product')\n",
    "    time.sleep(3) \n",
    "    print(details)\n",
    "    print('-------')\n",
    "    return details"
   ]
  },
  {
   "cell_type": "code",
   "execution_count": 22,
   "metadata": {},
   "outputs": [
    {
     "output_type": "stream",
     "name": "stdout",
     "text": [
      "waiting\n",
      "{'name': 'Noise Colorfit Pro 2 Full Touch Control Smart Watch Jet Black', 'price': 2499.0, 'deal': True, 'url': 'https://www.amazon.in/dp/B07YY1BY5B'}\n",
      "-------\n"
     ]
    },
    {
     "output_type": "execute_result",
     "data": {
      "text/plain": [
       "{'name': 'Noise Colorfit Pro 2 Full Touch Control Smart Watch Jet Black',\n",
       " 'price': 2499.0,\n",
       " 'deal': True,\n",
       " 'url': 'https://www.amazon.in/dp/B07YY1BY5B'}"
      ]
     },
     "metadata": {},
     "execution_count": 22
    }
   ],
   "source": [
    "run_tracker(\"https://www.amazon.in/Noise-Colorfit-Pro-Touch-Control/dp/B07YY1BY5B/ref=sr_1_6_mod_primary_lightning_deal?dchild=1&keywords=watch&qid=1615643196&sbo=Tc8eqSFhUl4VwMzbE4fw%2Fw%3D%3D&smid=A14CZOWI0VEHLG&sr=8-6\")"
   ]
  },
  {
   "cell_type": "code",
   "execution_count": 25,
   "metadata": {},
   "outputs": [
    {
     "output_type": "stream",
     "name": "stdout",
     "text": [
      "tracking product\n",
      "{'name': 'Noise Colorfit Pro 2 Full Touch Control Smart Watch Jet Black', 'price': 2499.0, 'deal': True, 'url': 'https://www.amazon.in/dp/B07YY1BY5B'}\n",
      "-------\n",
      "tracking product\n",
      "{'name': 'Noise Colorfit Pro 2 Full Touch Control Smart Watch Jet Black', 'price': 2499.0, 'deal': True, 'url': 'https://www.amazon.in/dp/B07YY1BY5B'}\n",
      "-------\n",
      "tracking product\n",
      "{'name': 'Noise Colorfit Pro 2 Full Touch Control Smart Watch Jet Black', 'price': 2499.0, 'deal': True, 'url': 'https://www.amazon.in/dp/B07YY1BY5B'}\n",
      "-------\n",
      "tracking product\n",
      "{'name': 'Noise Colorfit Pro 2 Full Touch Control Smart Watch Jet Black', 'price': 2499.0, 'deal': True, 'url': 'https://www.amazon.in/dp/B07YY1BY5B'}\n",
      "-------\n",
      "tracking product\n",
      "{'name': 'Noise Colorfit Pro 2 Full Touch Control Smart Watch Jet Black', 'price': 2499.0, 'deal': True, 'url': 'https://www.amazon.in/dp/B07YY1BY5B'}\n",
      "-------\n",
      "tracking product\n",
      "{'name': 'Noise Colorfit Pro 2 Full Touch Control Smart Watch Jet Black', 'price': 2499.0, 'deal': True, 'url': 'https://www.amazon.in/dp/B07YY1BY5B'}\n",
      "-------\n",
      "tracking product\n",
      "{'name': 'Noise Colorfit Pro 2 Full Touch Control Smart Watch Jet Black', 'price': 2499.0, 'deal': True, 'url': 'https://www.amazon.in/dp/B07YY1BY5B'}\n",
      "-------\n",
      "tracking product\n",
      "{'name': 'Noise Colorfit Pro 2 Full Touch Control Smart Watch Jet Black', 'price': 2499.0, 'deal': True, 'url': 'https://www.amazon.in/dp/B07YY1BY5B'}\n",
      "-------\n",
      "tracking product\n",
      "{'name': 'Noise Colorfit Pro 2 Full Touch Control Smart Watch Jet Black', 'price': 2499.0, 'deal': True, 'url': 'https://www.amazon.in/dp/B07YY1BY5B'}\n",
      "-------\n",
      "tracking product\n",
      "{'name': 'Noise Colorfit Pro 2 Full Touch Control Smart Watch Jet Black', 'price': 2499.0, 'deal': True, 'url': 'https://www.amazon.in/dp/B07YY1BY5B'}\n",
      "-------\n",
      "tracking product\n",
      "{'name': 'Noise Colorfit Pro 2 Full Touch Control Smart Watch Jet Black', 'price': 2499.0, 'deal': True, 'url': 'https://www.amazon.in/dp/B07YY1BY5B'}\n",
      "-------\n",
      "tracking product\n",
      "{'name': 'Noise Colorfit Pro 2 Full Touch Control Smart Watch Jet Black', 'price': 2499.0, 'deal': True, 'url': 'https://www.amazon.in/dp/B07YY1BY5B'}\n",
      "-------\n",
      "tracking product\n",
      "{'name': 'Noise Colorfit Pro 2 Full Touch Control Smart Watch Jet Black', 'price': 2499.0, 'deal': True, 'url': 'https://www.amazon.in/dp/B07YY1BY5B'}\n",
      "-------\n",
      "tracking product\n",
      "{'name': 'Noise Colorfit Pro 2 Full Touch Control Smart Watch Jet Black', 'price': 2499.0, 'deal': True, 'url': 'https://www.amazon.in/dp/B07YY1BY5B'}\n",
      "-------\n",
      "tracking product\n",
      "{'name': 'Noise Colorfit Pro 2 Full Touch Control Smart Watch Jet Black', 'price': 2499.0, 'deal': True, 'url': 'https://www.amazon.in/dp/B07YY1BY5B'}\n",
      "-------\n",
      "tracking product\n",
      "{'name': 'Noise Colorfit Pro 2 Full Touch Control Smart Watch Jet Black', 'price': 2499.0, 'deal': True, 'url': 'https://www.amazon.in/dp/B07YY1BY5B'}\n",
      "-------\n",
      "tracking product\n",
      "{'name': 'Noise Colorfit Pro 2 Full Touch Control Smart Watch Jet Black', 'price': 2499.0, 'deal': True, 'url': 'https://www.amazon.in/dp/B07YY1BY5B'}\n",
      "-------\n",
      "tracking product\n",
      "{'name': 'Noise Colorfit Pro 2 Full Touch Control Smart Watch Jet Black', 'price': 2499.0, 'deal': True, 'url': 'https://www.amazon.in/dp/B07YY1BY5B'}\n",
      "-------\n",
      "tracking product\n",
      "{'name': 'Noise Colorfit Pro 2 Full Touch Control Smart Watch Jet Black', 'price': 2499.0, 'deal': True, 'url': 'https://www.amazon.in/dp/B07YY1BY5B'}\n",
      "-------\n",
      "tracking product\n",
      "{'name': 'Noise Colorfit Pro 2 Full Touch Control Smart Watch Jet Black', 'price': 2499.0, 'deal': True, 'url': 'https://www.amazon.in/dp/B07YY1BY5B'}\n",
      "-------\n",
      "tracking product\n",
      "{'name': 'Noise Colorfit Pro 2 Full Touch Control Smart Watch Jet Black', 'price': 2499.0, 'deal': True, 'url': 'https://www.amazon.in/dp/B07YY1BY5B'}\n",
      "-------\n",
      "tracking product\n",
      "{'name': 'Noise Colorfit Pro 2 Full Touch Control Smart Watch Jet Black', 'price': 2499.0, 'deal': True, 'url': 'https://www.amazon.in/dp/B07YY1BY5B'}\n",
      "-------\n",
      "tracking product\n",
      "{'name': 'Noise Colorfit Pro 2 Full Touch Control Smart Watch Jet Black', 'price': 2499.0, 'deal': True, 'url': 'https://www.amazon.in/dp/B07YY1BY5B'}\n",
      "-------\n",
      "tracking product\n",
      "{'name': 'Noise Colorfit Pro 2 Full Touch Control Smart Watch Jet Black', 'price': 2499.0, 'deal': True, 'url': 'https://www.amazon.in/dp/B07YY1BY5B'}\n",
      "-------\n",
      "tracking product\n",
      "{'name': 'Noise Colorfit Pro 2 Full Touch Control Smart Watch Jet Black', 'price': 2499.0, 'deal': True, 'url': 'https://www.amazon.in/dp/B07YY1BY5B'}\n",
      "-------\n",
      "tracking product\n",
      "{'name': 'Noise Colorfit Pro 2 Full Touch Control Smart Watch Jet Black', 'price': 2499.0, 'deal': True, 'url': 'https://www.amazon.in/dp/B07YY1BY5B'}\n",
      "-------\n",
      "tracking product\n",
      "{'name': 'Noise Colorfit Pro 2 Full Touch Control Smart Watch Jet Black', 'price': 2499.0, 'deal': True, 'url': 'https://www.amazon.in/dp/B07YY1BY5B'}\n",
      "-------\n",
      "tracking product\n",
      "{'name': 'Noise Colorfit Pro 2 Full Touch Control Smart Watch Jet Black', 'price': 2499.0, 'deal': True, 'url': 'https://www.amazon.in/dp/B07YY1BY5B'}\n",
      "-------\n",
      "tracking product\n",
      "{'name': 'Noise Colorfit Pro 2 Full Touch Control Smart Watch Jet Black', 'price': 2499.0, 'deal': True, 'url': 'https://www.amazon.in/dp/B07YY1BY5B'}\n",
      "-------\n",
      "tracking product\n",
      "{'name': 'Noise Colorfit Pro 2 Full Touch Control Smart Watch Jet Black', 'price': 2499.0, 'deal': True, 'url': 'https://www.amazon.in/dp/B07YY1BY5B'}\n",
      "-------\n",
      "tracking product\n",
      "{'name': 'Noise Colorfit Pro 2 Full Touch Control Smart Watch Jet Black', 'price': 2499.0, 'deal': True, 'url': 'https://www.amazon.in/dp/B07YY1BY5B'}\n",
      "-------\n",
      "tracking product\n",
      "{'name': 'Noise Colorfit Pro 2 Full Touch Control Smart Watch Jet Black', 'price': 2499.0, 'deal': True, 'url': 'https://www.amazon.in/dp/B07YY1BY5B'}\n",
      "-------\n",
      "tracking product\n",
      "{'name': 'Noise Colorfit Pro 2 Full Touch Control Smart Watch Jet Black', 'price': 2499.0, 'deal': True, 'url': 'https://www.amazon.in/dp/B07YY1BY5B'}\n",
      "-------\n",
      "tracking product\n",
      "{'name': 'Noise Colorfit Pro 2 Full Touch Control Smart Watch Jet Black', 'price': 2499.0, 'deal': True, 'url': 'https://www.amazon.in/dp/B07YY1BY5B'}\n",
      "-------\n",
      "tracking product\n",
      "{'name': 'Noise Colorfit Pro 2 Full Touch Control Smart Watch Jet Black', 'price': 2499.0, 'deal': True, 'url': 'https://www.amazon.in/dp/B07YY1BY5B'}\n",
      "-------\n",
      "tracking product\n",
      "{'name': 'Noise Colorfit Pro 2 Full Touch Control Smart Watch Jet Black', 'price': 2499.0, 'deal': True, 'url': 'https://www.amazon.in/dp/B07YY1BY5B'}\n",
      "-------\n",
      "tracking product\n",
      "{'name': 'Noise Colorfit Pro 2 Full Touch Control Smart Watch Jet Black', 'price': 2499.0, 'deal': True, 'url': 'https://www.amazon.in/dp/B07YY1BY5B'}\n",
      "-------\n",
      "tracking product\n",
      "{'name': 'Noise Colorfit Pro 2 Full Touch Control Smart Watch Jet Black', 'price': 2499.0, 'deal': True, 'url': 'https://www.amazon.in/dp/B07YY1BY5B'}\n",
      "-------\n",
      "tracking product\n",
      "{'name': 'Noise Colorfit Pro 2 Full Touch Control Smart Watch Jet Black', 'price': 2499.0, 'deal': True, 'url': 'https://www.amazon.in/dp/B07YY1BY5B'}\n",
      "-------\n",
      "tracking product\n",
      "{'name': 'Noise Colorfit Pro 2 Full Touch Control Smart Watch Jet Black', 'price': 2499.0, 'deal': True, 'url': 'https://www.amazon.in/dp/B07YY1BY5B'}\n",
      "-------\n",
      "tracking product\n",
      "{'name': 'Noise Colorfit Pro 2 Full Touch Control Smart Watch Jet Black', 'price': 2499.0, 'deal': True, 'url': 'https://www.amazon.in/dp/B07YY1BY5B'}\n",
      "-------\n",
      "tracking product\n",
      "{'name': 'Noise Colorfit Pro 2 Full Touch Control Smart Watch Jet Black', 'price': 2499.0, 'deal': True, 'url': 'https://www.amazon.in/dp/B07YY1BY5B'}\n",
      "-------\n",
      "tracking product\n",
      "{'name': 'Noise Colorfit Pro 2 Full Touch Control Smart Watch Jet Black', 'price': 2499.0, 'deal': True, 'url': 'https://www.amazon.in/dp/B07YY1BY5B'}\n",
      "-------\n",
      "tracking product\n",
      "{'name': 'Noise Colorfit Pro 2 Full Touch Control Smart Watch Jet Black', 'price': 2499.0, 'deal': True, 'url': 'https://www.amazon.in/dp/B07YY1BY5B'}\n",
      "-------\n",
      "tracking product\n",
      "{'name': 'Noise Colorfit Pro 2 Full Touch Control Smart Watch Jet Black', 'price': 2499.0, 'deal': True, 'url': 'https://www.amazon.in/dp/B07YY1BY5B'}\n",
      "-------\n",
      "tracking product\n",
      "{'name': 'Noise Colorfit Pro 2 Full Touch Control Smart Watch Jet Black', 'price': 2499.0, 'deal': True, 'url': 'https://www.amazon.in/dp/B07YY1BY5B'}\n",
      "-------\n",
      "tracking product\n",
      "{'name': 'Noise Colorfit Pro 2 Full Touch Control Smart Watch Jet Black', 'price': 2499.0, 'deal': True, 'url': 'https://www.amazon.in/dp/B07YY1BY5B'}\n",
      "-------\n",
      "tracking product\n",
      "{'name': 'Noise Colorfit Pro 2 Full Touch Control Smart Watch Jet Black', 'price': 2499.0, 'deal': True, 'url': 'https://www.amazon.in/dp/B07YY1BY5B'}\n",
      "-------\n",
      "tracking product\n",
      "{'name': 'Noise Colorfit Pro 2 Full Touch Control Smart Watch Jet Black', 'price': 2499.0, 'deal': True, 'url': 'https://www.amazon.in/dp/B07YY1BY5B'}\n",
      "-------\n",
      "tracking product\n",
      "{'name': 'Noise Colorfit Pro 2 Full Touch Control Smart Watch Jet Black', 'price': 2499.0, 'deal': True, 'url': 'https://www.amazon.in/dp/B07YY1BY5B'}\n",
      "-------\n",
      "tracking product\n",
      "{'name': 'Noise Colorfit Pro 2 Full Touch Control Smart Watch Jet Black', 'price': 2499.0, 'deal': True, 'url': 'https://www.amazon.in/dp/B07YY1BY5B'}\n",
      "-------\n",
      "tracking product\n",
      "{'name': 'Noise Colorfit Pro 2 Full Touch Control Smart Watch Jet Black', 'price': 2499.0, 'deal': True, 'url': 'https://www.amazon.in/dp/B07YY1BY5B'}\n",
      "-------\n",
      "tracking product\n",
      "{'name': 'Noise Colorfit Pro 2 Full Touch Control Smart Watch Jet Black', 'price': 2499.0, 'deal': True, 'url': 'https://www.amazon.in/dp/B07YY1BY5B'}\n",
      "-------\n",
      "tracking product\n",
      "{'name': 'Noise Colorfit Pro 2 Full Touch Control Smart Watch Jet Black', 'price': 2499.0, 'deal': True, 'url': 'https://www.amazon.in/dp/B07YY1BY5B'}\n",
      "-------\n",
      "tracking product\n",
      "{'name': 'Noise Colorfit Pro 2 Full Touch Control Smart Watch Jet Black', 'price': 2499.0, 'deal': True, 'url': 'https://www.amazon.in/dp/B07YY1BY5B'}\n",
      "-------\n",
      "tracking product\n",
      "{'name': 'Noise Colorfit Pro 2 Full Touch Control Smart Watch Jet Black', 'price': 2499.0, 'deal': True, 'url': 'https://www.amazon.in/dp/B07YY1BY5B'}\n",
      "-------\n",
      "tracking product\n",
      "{'name': 'Noise Colorfit Pro 2 Full Touch Control Smart Watch Jet Black', 'price': 2499.0, 'deal': True, 'url': 'https://www.amazon.in/dp/B07YY1BY5B'}\n",
      "-------\n",
      "tracking product\n",
      "{'name': 'Noise Colorfit Pro 2 Full Touch Control Smart Watch Jet Black', 'price': 2499.0, 'deal': True, 'url': 'https://www.amazon.in/dp/B07YY1BY5B'}\n",
      "-------\n",
      "tracking product\n",
      "{'name': 'Noise Colorfit Pro 2 Full Touch Control Smart Watch Jet Black', 'price': 2499.0, 'deal': True, 'url': 'https://www.amazon.in/dp/B07YY1BY5B'}\n",
      "-------\n",
      "tracking product\n",
      "{'name': 'Noise Colorfit Pro 2 Full Touch Control Smart Watch Jet Black', 'price': 2499.0, 'deal': True, 'url': 'https://www.amazon.in/dp/B07YY1BY5B'}\n",
      "-------\n",
      "tracking product\n",
      "{'name': 'Noise Colorfit Pro 2 Full Touch Control Smart Watch Jet Black', 'price': 2499.0, 'deal': True, 'url': 'https://www.amazon.in/dp/B07YY1BY5B'}\n",
      "-------\n",
      "tracking product\n",
      "{'name': 'Noise Colorfit Pro 2 Full Touch Control Smart Watch Jet Black', 'price': 2499.0, 'deal': True, 'url': 'https://www.amazon.in/dp/B07YY1BY5B'}\n",
      "-------\n",
      "tracking product\n",
      "{'name': 'Noise Colorfit Pro 2 Full Touch Control Smart Watch Jet Black', 'price': 2499.0, 'deal': True, 'url': 'https://www.amazon.in/dp/B07YY1BY5B'}\n",
      "-------\n",
      "tracking product\n",
      "{'name': 'Noise Colorfit Pro 2 Full Touch Control Smart Watch Jet Black', 'price': 2499.0, 'deal': True, 'url': 'https://www.amazon.in/dp/B07YY1BY5B'}\n",
      "-------\n",
      "tracking product\n",
      "{'name': 'Noise Colorfit Pro 2 Full Touch Control Smart Watch Jet Black', 'price': 2499.0, 'deal': True, 'url': 'https://www.amazon.in/dp/B07YY1BY5B'}\n",
      "-------\n",
      "tracking product\n",
      "{'name': 'Noise Colorfit Pro 2 Full Touch Control Smart Watch Jet Black', 'price': 2499.0, 'deal': True, 'url': 'https://www.amazon.in/dp/B07YY1BY5B'}\n",
      "-------\n",
      "tracking product\n",
      "{'name': 'Noise Colorfit Pro 2 Full Touch Control Smart Watch Jet Black', 'price': 2499.0, 'deal': True, 'url': 'https://www.amazon.in/dp/B07YY1BY5B'}\n",
      "-------\n",
      "tracking product\n",
      "{'name': 'Noise Colorfit Pro 2 Full Touch Control Smart Watch Jet Black', 'price': 2499.0, 'deal': True, 'url': 'https://www.amazon.in/dp/B07YY1BY5B'}\n",
      "-------\n",
      "tracking product\n",
      "{'name': 'Noise Colorfit Pro 2 Full Touch Control Smart Watch Jet Black', 'price': 2499.0, 'deal': True, 'url': 'https://www.amazon.in/dp/B07YY1BY5B'}\n",
      "-------\n",
      "tracking product\n",
      "{'name': 'Noise Colorfit Pro 2 Full Touch Control Smart Watch Jet Black', 'price': 2499.0, 'deal': True, 'url': 'https://www.amazon.in/dp/B07YY1BY5B'}\n",
      "-------\n",
      "tracking product\n",
      "{'name': 'Noise Colorfit Pro 2 Full Touch Control Smart Watch Jet Black', 'price': 2499.0, 'deal': True, 'url': 'https://www.amazon.in/dp/B07YY1BY5B'}\n",
      "-------\n",
      "tracking product\n",
      "{'name': 'Noise Colorfit Pro 2 Full Touch Control Smart Watch Jet Black', 'price': 2499.0, 'deal': True, 'url': 'https://www.amazon.in/dp/B07YY1BY5B'}\n",
      "-------\n",
      "tracking product\n",
      "{'name': 'Noise Colorfit Pro 2 Full Touch Control Smart Watch Jet Black', 'price': 2499.0, 'deal': True, 'url': 'https://www.amazon.in/dp/B07YY1BY5B'}\n",
      "-------\n",
      "tracking product\n",
      "{'name': 'Noise Colorfit Pro 2 Full Touch Control Smart Watch Jet Black', 'price': 2499.0, 'deal': True, 'url': 'https://www.amazon.in/dp/B07YY1BY5B'}\n",
      "-------\n",
      "tracking product\n",
      "{'name': 'Noise Colorfit Pro 2 Full Touch Control Smart Watch Jet Black', 'price': 2499.0, 'deal': True, 'url': 'https://www.amazon.in/dp/B07YY1BY5B'}\n",
      "-------\n",
      "tracking product\n",
      "{'name': 'Noise Colorfit Pro 2 Full Touch Control Smart Watch Jet Black', 'price': 2499.0, 'deal': True, 'url': 'https://www.amazon.in/dp/B07YY1BY5B'}\n",
      "-------\n",
      "tracking product\n",
      "{'name': 'Noise Colorfit Pro 2 Full Touch Control Smart Watch Jet Black', 'price': 2499.0, 'deal': True, 'url': 'https://www.amazon.in/dp/B07YY1BY5B'}\n",
      "-------\n",
      "tracking product\n",
      "{'name': 'Noise Colorfit Pro 2 Full Touch Control Smart Watch Jet Black', 'price': 2499.0, 'deal': True, 'url': 'https://www.amazon.in/dp/B07YY1BY5B'}\n",
      "-------\n",
      "tracking product\n",
      "{'name': 'Noise Colorfit Pro 2 Full Touch Control Smart Watch Jet Black', 'price': 2499.0, 'deal': True, 'url': 'https://www.amazon.in/dp/B07YY1BY5B'}\n",
      "-------\n",
      "tracking product\n",
      "{'name': 'Noise Colorfit Pro 2 Full Touch Control Smart Watch Jet Black', 'price': 2499.0, 'deal': True, 'url': 'https://www.amazon.in/dp/B07YY1BY5B'}\n",
      "-------\n",
      "tracking product\n",
      "{'name': 'Noise Colorfit Pro 2 Full Touch Control Smart Watch Jet Black', 'price': 2499.0, 'deal': True, 'url': 'https://www.amazon.in/dp/B07YY1BY5B'}\n",
      "-------\n",
      "tracking product\n",
      "{'name': 'Noise Colorfit Pro 2 Full Touch Control Smart Watch Jet Black', 'price': 2499.0, 'deal': True, 'url': 'https://www.amazon.in/dp/B07YY1BY5B'}\n",
      "-------\n",
      "tracking product\n",
      "{'name': 'Noise Colorfit Pro 2 Full Touch Control Smart Watch Jet Black', 'price': 2499.0, 'deal': True, 'url': 'https://www.amazon.in/dp/B07YY1BY5B'}\n",
      "-------\n",
      "tracking product\n",
      "{'name': 'Noise Colorfit Pro 2 Full Touch Control Smart Watch Jet Black', 'price': 2499.0, 'deal': True, 'url': 'https://www.amazon.in/dp/B07YY1BY5B'}\n",
      "-------\n",
      "tracking product\n",
      "{'name': 'Noise Colorfit Pro 2 Full Touch Control Smart Watch Jet Black', 'price': 2499.0, 'deal': True, 'url': 'https://www.amazon.in/dp/B07YY1BY5B'}\n",
      "-------\n",
      "tracking product\n",
      "{'name': 'Noise Colorfit Pro 2 Full Touch Control Smart Watch Jet Black', 'price': 2499.0, 'deal': True, 'url': 'https://www.amazon.in/dp/B07YY1BY5B'}\n",
      "-------\n",
      "tracking product\n",
      "{'name': 'Noise Colorfit Pro 2 Full Touch Control Smart Watch Jet Black', 'price': 2499.0, 'deal': True, 'url': 'https://www.amazon.in/dp/B07YY1BY5B'}\n",
      "-------\n",
      "tracking product\n",
      "{'name': 'Noise Colorfit Pro 2 Full Touch Control Smart Watch Jet Black', 'price': 2499.0, 'deal': True, 'url': 'https://www.amazon.in/dp/B07YY1BY5B'}\n",
      "-------\n",
      "tracking product\n",
      "{'name': 'Noise Colorfit Pro 2 Full Touch Control Smart Watch Jet Black', 'price': 2499.0, 'deal': True, 'url': 'https://www.amazon.in/dp/B07YY1BY5B'}\n",
      "-------\n",
      "tracking product\n",
      "{'name': 'Noise Colorfit Pro 2 Full Touch Control Smart Watch Jet Black', 'price': 2499.0, 'deal': True, 'url': 'https://www.amazon.in/dp/B07YY1BY5B'}\n",
      "-------\n",
      "tracking product\n",
      "{'name': 'Noise Colorfit Pro 2 Full Touch Control Smart Watch Jet Black', 'price': 2499.0, 'deal': True, 'url': 'https://www.amazon.in/dp/B07YY1BY5B'}\n",
      "-------\n",
      "tracking product\n",
      "{'name': 'Noise Colorfit Pro 2 Full Touch Control Smart Watch Jet Black', 'price': 2499.0, 'deal': True, 'url': 'https://www.amazon.in/dp/B07YY1BY5B'}\n",
      "-------\n",
      "tracking product\n",
      "{'name': 'Noise Colorfit Pro 2 Full Touch Control Smart Watch Jet Black', 'price': 2499.0, 'deal': True, 'url': 'https://www.amazon.in/dp/B07YY1BY5B'}\n",
      "-------\n",
      "tracking product\n",
      "{'name': 'Noise Colorfit Pro 2 Full Touch Control Smart Watch Jet Black', 'price': 2499.0, 'deal': True, 'url': 'https://www.amazon.in/dp/B07YY1BY5B'}\n",
      "-------\n",
      "tracking product\n",
      "{'name': 'Noise Colorfit Pro 2 Full Touch Control Smart Watch Jet Black', 'price': 2499.0, 'deal': True, 'url': 'https://www.amazon.in/dp/B07YY1BY5B'}\n",
      "-------\n",
      "tracking product\n",
      "{'name': 'Noise Colorfit Pro 2 Full Touch Control Smart Watch Jet Black', 'price': 2499.0, 'deal': True, 'url': 'https://www.amazon.in/dp/B07YY1BY5B'}\n",
      "-------\n",
      "tracking product\n",
      "{'name': 'Noise Colorfit Pro 2 Full Touch Control Smart Watch Jet Black', 'price': 2499.0, 'deal': True, 'url': 'https://www.amazon.in/dp/B07YY1BY5B'}\n",
      "-------\n",
      "tracking product\n",
      "{'name': 'Noise Colorfit Pro 2 Full Touch Control Smart Watch Jet Black', 'price': 2499.0, 'deal': True, 'url': 'https://www.amazon.in/dp/B07YY1BY5B'}\n",
      "-------\n",
      "tracking product\n",
      "{'name': 'Noise Colorfit Pro 2 Full Touch Control Smart Watch Jet Black', 'price': 2499.0, 'deal': True, 'url': 'https://www.amazon.in/dp/B07YY1BY5B'}\n",
      "-------\n",
      "tracking product\n",
      "{'name': 'Noise Colorfit Pro 2 Full Touch Control Smart Watch Jet Black', 'price': 2499.0, 'deal': True, 'url': 'https://www.amazon.in/dp/B07YY1BY5B'}\n",
      "-------\n"
     ]
    }
   ],
   "source": [
    "tracker_data = []\n",
    "\n",
    "url = 'https://www.amazon.in/Noise-Colorfit-Pro-Touch-Control/dp/B07YY1BY5B/ref=sr_1_6_mod_primary_lightning_deal?dchild=1&keywords=watch&qid=1615643196&sbo=Tc8eqSFhUl4VwMzbE4fw%2Fw%3D%3D&smid=A14CZOWI0VEHLG&sr=8-6'\n",
    "for i in range(100):\n",
    "    tracker_data.append(run_tracker(url))\n",
    "\n",
    "\n",
    "    "
   ]
  },
  {
   "cell_type": "code",
   "execution_count": 26,
   "metadata": {},
   "outputs": [],
   "source": [
    "import pandas as pd"
   ]
  },
  {
   "cell_type": "code",
   "execution_count": 28,
   "metadata": {},
   "outputs": [],
   "source": [
    "df = pd.DataFrame(tracker_data)"
   ]
  },
  {
   "cell_type": "code",
   "execution_count": 29,
   "metadata": {},
   "outputs": [
    {
     "output_type": "execute_result",
     "data": {
      "text/plain": [
       "<matplotlib.axes._subplots.AxesSubplot at 0x207c87a9c48>"
      ]
     },
     "metadata": {},
     "execution_count": 29
    },
    {
     "output_type": "display_data",
     "data": {
      "text/plain": "<Figure size 432x288 with 1 Axes>",
      "image/svg+xml": "<?xml version=\"1.0\" encoding=\"utf-8\" standalone=\"no\"?>\r\n<!DOCTYPE svg PUBLIC \"-//W3C//DTD SVG 1.1//EN\"\r\n  \"http://www.w3.org/Graphics/SVG/1.1/DTD/svg11.dtd\">\r\n<!-- Created with matplotlib (https://matplotlib.org/) -->\r\n<svg height=\"248.518125pt\" version=\"1.1\" viewBox=\"0 0 381.65 248.518125\" width=\"381.65pt\" xmlns=\"http://www.w3.org/2000/svg\" xmlns:xlink=\"http://www.w3.org/1999/xlink\">\r\n <defs>\r\n  <style type=\"text/css\">\r\n*{stroke-linecap:butt;stroke-linejoin:round;}\r\n  </style>\r\n </defs>\r\n <g id=\"figure_1\">\r\n  <g id=\"patch_1\">\r\n   <path d=\"M -0 248.518125 \r\nL 381.65 248.518125 \r\nL 381.65 0 \r\nL -0 0 \r\nz\r\n\" style=\"fill:none;\"/>\r\n  </g>\r\n  <g id=\"axes_1\">\r\n   <g id=\"patch_2\">\r\n    <path d=\"M 39.65 224.64 \r\nL 374.45 224.64 \r\nL 374.45 7.2 \r\nL 39.65 7.2 \r\nz\r\n\" style=\"fill:#ffffff;\"/>\r\n   </g>\r\n   <g id=\"matplotlib.axis_1\">\r\n    <g id=\"xtick_1\">\r\n     <g id=\"line2d_1\">\r\n      <defs>\r\n       <path d=\"M 0 0 \r\nL 0 3.5 \r\n\" id=\"m524e62d166\" style=\"stroke:#000000;stroke-width:0.8;\"/>\r\n      </defs>\r\n      <g>\r\n       <use style=\"stroke:#000000;stroke-width:0.8;\" x=\"54.868182\" xlink:href=\"#m524e62d166\" y=\"224.64\"/>\r\n      </g>\r\n     </g>\r\n     <g id=\"text_1\">\r\n      <!-- 0 -->\r\n      <defs>\r\n       <path d=\"M 31.78125 66.40625 \r\nQ 24.171875 66.40625 20.328125 58.90625 \r\nQ 16.5 51.421875 16.5 36.375 \r\nQ 16.5 21.390625 20.328125 13.890625 \r\nQ 24.171875 6.390625 31.78125 6.390625 \r\nQ 39.453125 6.390625 43.28125 13.890625 \r\nQ 47.125 21.390625 47.125 36.375 \r\nQ 47.125 51.421875 43.28125 58.90625 \r\nQ 39.453125 66.40625 31.78125 66.40625 \r\nz\r\nM 31.78125 74.21875 \r\nQ 44.046875 74.21875 50.515625 64.515625 \r\nQ 56.984375 54.828125 56.984375 36.375 \r\nQ 56.984375 17.96875 50.515625 8.265625 \r\nQ 44.046875 -1.421875 31.78125 -1.421875 \r\nQ 19.53125 -1.421875 13.0625 8.265625 \r\nQ 6.59375 17.96875 6.59375 36.375 \r\nQ 6.59375 54.828125 13.0625 64.515625 \r\nQ 19.53125 74.21875 31.78125 74.21875 \r\nz\r\n\" id=\"DejaVuSans-48\"/>\r\n      </defs>\r\n      <g transform=\"translate(51.686932 239.238438)scale(0.1 -0.1)\">\r\n       <use xlink:href=\"#DejaVuSans-48\"/>\r\n      </g>\r\n     </g>\r\n    </g>\r\n    <g id=\"xtick_2\">\r\n     <g id=\"line2d_2\">\r\n      <g>\r\n       <use style=\"stroke:#000000;stroke-width:0.8;\" x=\"116.355785\" xlink:href=\"#m524e62d166\" y=\"224.64\"/>\r\n      </g>\r\n     </g>\r\n     <g id=\"text_2\">\r\n      <!-- 20 -->\r\n      <defs>\r\n       <path d=\"M 19.1875 8.296875 \r\nL 53.609375 8.296875 \r\nL 53.609375 0 \r\nL 7.328125 0 \r\nL 7.328125 8.296875 \r\nQ 12.9375 14.109375 22.625 23.890625 \r\nQ 32.328125 33.6875 34.8125 36.53125 \r\nQ 39.546875 41.84375 41.421875 45.53125 \r\nQ 43.3125 49.21875 43.3125 52.78125 \r\nQ 43.3125 58.59375 39.234375 62.25 \r\nQ 35.15625 65.921875 28.609375 65.921875 \r\nQ 23.96875 65.921875 18.8125 64.3125 \r\nQ 13.671875 62.703125 7.8125 59.421875 \r\nL 7.8125 69.390625 \r\nQ 13.765625 71.78125 18.9375 73 \r\nQ 24.125 74.21875 28.421875 74.21875 \r\nQ 39.75 74.21875 46.484375 68.546875 \r\nQ 53.21875 62.890625 53.21875 53.421875 \r\nQ 53.21875 48.921875 51.53125 44.890625 \r\nQ 49.859375 40.875 45.40625 35.40625 \r\nQ 44.1875 33.984375 37.640625 27.21875 \r\nQ 31.109375 20.453125 19.1875 8.296875 \r\nz\r\n\" id=\"DejaVuSans-50\"/>\r\n      </defs>\r\n      <g transform=\"translate(109.993285 239.238438)scale(0.1 -0.1)\">\r\n       <use xlink:href=\"#DejaVuSans-50\"/>\r\n       <use x=\"63.623047\" xlink:href=\"#DejaVuSans-48\"/>\r\n      </g>\r\n     </g>\r\n    </g>\r\n    <g id=\"xtick_3\">\r\n     <g id=\"line2d_3\">\r\n      <g>\r\n       <use style=\"stroke:#000000;stroke-width:0.8;\" x=\"177.843388\" xlink:href=\"#m524e62d166\" y=\"224.64\"/>\r\n      </g>\r\n     </g>\r\n     <g id=\"text_3\">\r\n      <!-- 40 -->\r\n      <defs>\r\n       <path d=\"M 37.796875 64.3125 \r\nL 12.890625 25.390625 \r\nL 37.796875 25.390625 \r\nz\r\nM 35.203125 72.90625 \r\nL 47.609375 72.90625 \r\nL 47.609375 25.390625 \r\nL 58.015625 25.390625 \r\nL 58.015625 17.1875 \r\nL 47.609375 17.1875 \r\nL 47.609375 0 \r\nL 37.796875 0 \r\nL 37.796875 17.1875 \r\nL 4.890625 17.1875 \r\nL 4.890625 26.703125 \r\nz\r\n\" id=\"DejaVuSans-52\"/>\r\n      </defs>\r\n      <g transform=\"translate(171.480888 239.238438)scale(0.1 -0.1)\">\r\n       <use xlink:href=\"#DejaVuSans-52\"/>\r\n       <use x=\"63.623047\" xlink:href=\"#DejaVuSans-48\"/>\r\n      </g>\r\n     </g>\r\n    </g>\r\n    <g id=\"xtick_4\">\r\n     <g id=\"line2d_4\">\r\n      <g>\r\n       <use style=\"stroke:#000000;stroke-width:0.8;\" x=\"239.330992\" xlink:href=\"#m524e62d166\" y=\"224.64\"/>\r\n      </g>\r\n     </g>\r\n     <g id=\"text_4\">\r\n      <!-- 60 -->\r\n      <defs>\r\n       <path d=\"M 33.015625 40.375 \r\nQ 26.375 40.375 22.484375 35.828125 \r\nQ 18.609375 31.296875 18.609375 23.390625 \r\nQ 18.609375 15.53125 22.484375 10.953125 \r\nQ 26.375 6.390625 33.015625 6.390625 \r\nQ 39.65625 6.390625 43.53125 10.953125 \r\nQ 47.40625 15.53125 47.40625 23.390625 \r\nQ 47.40625 31.296875 43.53125 35.828125 \r\nQ 39.65625 40.375 33.015625 40.375 \r\nz\r\nM 52.59375 71.296875 \r\nL 52.59375 62.3125 \r\nQ 48.875 64.0625 45.09375 64.984375 \r\nQ 41.3125 65.921875 37.59375 65.921875 \r\nQ 27.828125 65.921875 22.671875 59.328125 \r\nQ 17.53125 52.734375 16.796875 39.40625 \r\nQ 19.671875 43.65625 24.015625 45.921875 \r\nQ 28.375 48.1875 33.59375 48.1875 \r\nQ 44.578125 48.1875 50.953125 41.515625 \r\nQ 57.328125 34.859375 57.328125 23.390625 \r\nQ 57.328125 12.15625 50.6875 5.359375 \r\nQ 44.046875 -1.421875 33.015625 -1.421875 \r\nQ 20.359375 -1.421875 13.671875 8.265625 \r\nQ 6.984375 17.96875 6.984375 36.375 \r\nQ 6.984375 53.65625 15.1875 63.9375 \r\nQ 23.390625 74.21875 37.203125 74.21875 \r\nQ 40.921875 74.21875 44.703125 73.484375 \r\nQ 48.484375 72.75 52.59375 71.296875 \r\nz\r\n\" id=\"DejaVuSans-54\"/>\r\n      </defs>\r\n      <g transform=\"translate(232.968492 239.238438)scale(0.1 -0.1)\">\r\n       <use xlink:href=\"#DejaVuSans-54\"/>\r\n       <use x=\"63.623047\" xlink:href=\"#DejaVuSans-48\"/>\r\n      </g>\r\n     </g>\r\n    </g>\r\n    <g id=\"xtick_5\">\r\n     <g id=\"line2d_5\">\r\n      <g>\r\n       <use style=\"stroke:#000000;stroke-width:0.8;\" x=\"300.818595\" xlink:href=\"#m524e62d166\" y=\"224.64\"/>\r\n      </g>\r\n     </g>\r\n     <g id=\"text_5\">\r\n      <!-- 80 -->\r\n      <defs>\r\n       <path d=\"M 31.78125 34.625 \r\nQ 24.75 34.625 20.71875 30.859375 \r\nQ 16.703125 27.09375 16.703125 20.515625 \r\nQ 16.703125 13.921875 20.71875 10.15625 \r\nQ 24.75 6.390625 31.78125 6.390625 \r\nQ 38.8125 6.390625 42.859375 10.171875 \r\nQ 46.921875 13.96875 46.921875 20.515625 \r\nQ 46.921875 27.09375 42.890625 30.859375 \r\nQ 38.875 34.625 31.78125 34.625 \r\nz\r\nM 21.921875 38.8125 \r\nQ 15.578125 40.375 12.03125 44.71875 \r\nQ 8.5 49.078125 8.5 55.328125 \r\nQ 8.5 64.0625 14.71875 69.140625 \r\nQ 20.953125 74.21875 31.78125 74.21875 \r\nQ 42.671875 74.21875 48.875 69.140625 \r\nQ 55.078125 64.0625 55.078125 55.328125 \r\nQ 55.078125 49.078125 51.53125 44.71875 \r\nQ 48 40.375 41.703125 38.8125 \r\nQ 48.828125 37.15625 52.796875 32.3125 \r\nQ 56.78125 27.484375 56.78125 20.515625 \r\nQ 56.78125 9.90625 50.3125 4.234375 \r\nQ 43.84375 -1.421875 31.78125 -1.421875 \r\nQ 19.734375 -1.421875 13.25 4.234375 \r\nQ 6.78125 9.90625 6.78125 20.515625 \r\nQ 6.78125 27.484375 10.78125 32.3125 \r\nQ 14.796875 37.15625 21.921875 38.8125 \r\nz\r\nM 18.3125 54.390625 \r\nQ 18.3125 48.734375 21.84375 45.5625 \r\nQ 25.390625 42.390625 31.78125 42.390625 \r\nQ 38.140625 42.390625 41.71875 45.5625 \r\nQ 45.3125 48.734375 45.3125 54.390625 \r\nQ 45.3125 60.0625 41.71875 63.234375 \r\nQ 38.140625 66.40625 31.78125 66.40625 \r\nQ 25.390625 66.40625 21.84375 63.234375 \r\nQ 18.3125 60.0625 18.3125 54.390625 \r\nz\r\n\" id=\"DejaVuSans-56\"/>\r\n      </defs>\r\n      <g transform=\"translate(294.456095 239.238438)scale(0.1 -0.1)\">\r\n       <use xlink:href=\"#DejaVuSans-56\"/>\r\n       <use x=\"63.623047\" xlink:href=\"#DejaVuSans-48\"/>\r\n      </g>\r\n     </g>\r\n    </g>\r\n    <g id=\"xtick_6\">\r\n     <g id=\"line2d_6\">\r\n      <g>\r\n       <use style=\"stroke:#000000;stroke-width:0.8;\" x=\"362.306198\" xlink:href=\"#m524e62d166\" y=\"224.64\"/>\r\n      </g>\r\n     </g>\r\n     <g id=\"text_6\">\r\n      <!-- 100 -->\r\n      <defs>\r\n       <path d=\"M 12.40625 8.296875 \r\nL 28.515625 8.296875 \r\nL 28.515625 63.921875 \r\nL 10.984375 60.40625 \r\nL 10.984375 69.390625 \r\nL 28.421875 72.90625 \r\nL 38.28125 72.90625 \r\nL 38.28125 8.296875 \r\nL 54.390625 8.296875 \r\nL 54.390625 0 \r\nL 12.40625 0 \r\nz\r\n\" id=\"DejaVuSans-49\"/>\r\n      </defs>\r\n      <g transform=\"translate(352.762448 239.238438)scale(0.1 -0.1)\">\r\n       <use xlink:href=\"#DejaVuSans-49\"/>\r\n       <use x=\"63.623047\" xlink:href=\"#DejaVuSans-48\"/>\r\n       <use x=\"127.246094\" xlink:href=\"#DejaVuSans-48\"/>\r\n      </g>\r\n     </g>\r\n    </g>\r\n   </g>\r\n   <g id=\"matplotlib.axis_2\">\r\n    <g id=\"ytick_1\">\r\n     <g id=\"line2d_7\">\r\n      <defs>\r\n       <path d=\"M 0 0 \r\nL -3.5 0 \r\n\" id=\"m5870ac8ea0\" style=\"stroke:#000000;stroke-width:0.8;\"/>\r\n      </defs>\r\n      <g>\r\n       <use style=\"stroke:#000000;stroke-width:0.8;\" x=\"39.65\" xlink:href=\"#m5870ac8ea0\" y=\"194.229724\"/>\r\n      </g>\r\n     </g>\r\n     <g id=\"text_7\">\r\n      <!-- 2400 -->\r\n      <g transform=\"translate(7.2 198.028943)scale(0.1 -0.1)\">\r\n       <use xlink:href=\"#DejaVuSans-50\"/>\r\n       <use x=\"63.623047\" xlink:href=\"#DejaVuSans-52\"/>\r\n       <use x=\"127.246094\" xlink:href=\"#DejaVuSans-48\"/>\r\n       <use x=\"190.869141\" xlink:href=\"#DejaVuSans-48\"/>\r\n      </g>\r\n     </g>\r\n    </g>\r\n    <g id=\"ytick_2\">\r\n     <g id=\"line2d_8\">\r\n      <g>\r\n       <use style=\"stroke:#000000;stroke-width:0.8;\" x=\"39.65\" xlink:href=\"#m5870ac8ea0\" y=\"154.679358\"/>\r\n      </g>\r\n     </g>\r\n     <g id=\"text_8\">\r\n      <!-- 2450 -->\r\n      <defs>\r\n       <path d=\"M 10.796875 72.90625 \r\nL 49.515625 72.90625 \r\nL 49.515625 64.59375 \r\nL 19.828125 64.59375 \r\nL 19.828125 46.734375 \r\nQ 21.96875 47.46875 24.109375 47.828125 \r\nQ 26.265625 48.1875 28.421875 48.1875 \r\nQ 40.625 48.1875 47.75 41.5 \r\nQ 54.890625 34.8125 54.890625 23.390625 \r\nQ 54.890625 11.625 47.5625 5.09375 \r\nQ 40.234375 -1.421875 26.90625 -1.421875 \r\nQ 22.3125 -1.421875 17.546875 -0.640625 \r\nQ 12.796875 0.140625 7.71875 1.703125 \r\nL 7.71875 11.625 \r\nQ 12.109375 9.234375 16.796875 8.0625 \r\nQ 21.484375 6.890625 26.703125 6.890625 \r\nQ 35.15625 6.890625 40.078125 11.328125 \r\nQ 45.015625 15.765625 45.015625 23.390625 \r\nQ 45.015625 31 40.078125 35.4375 \r\nQ 35.15625 39.890625 26.703125 39.890625 \r\nQ 22.75 39.890625 18.8125 39.015625 \r\nQ 14.890625 38.140625 10.796875 36.28125 \r\nz\r\n\" id=\"DejaVuSans-53\"/>\r\n      </defs>\r\n      <g transform=\"translate(7.2 158.478577)scale(0.1 -0.1)\">\r\n       <use xlink:href=\"#DejaVuSans-50\"/>\r\n       <use x=\"63.623047\" xlink:href=\"#DejaVuSans-52\"/>\r\n       <use x=\"127.246094\" xlink:href=\"#DejaVuSans-53\"/>\r\n       <use x=\"190.869141\" xlink:href=\"#DejaVuSans-48\"/>\r\n      </g>\r\n     </g>\r\n    </g>\r\n    <g id=\"ytick_3\">\r\n     <g id=\"line2d_9\">\r\n      <g>\r\n       <use style=\"stroke:#000000;stroke-width:0.8;\" x=\"39.65\" xlink:href=\"#m5870ac8ea0\" y=\"115.128993\"/>\r\n      </g>\r\n     </g>\r\n     <g id=\"text_9\">\r\n      <!-- 2500 -->\r\n      <g transform=\"translate(7.2 118.928211)scale(0.1 -0.1)\">\r\n       <use xlink:href=\"#DejaVuSans-50\"/>\r\n       <use x=\"63.623047\" xlink:href=\"#DejaVuSans-53\"/>\r\n       <use x=\"127.246094\" xlink:href=\"#DejaVuSans-48\"/>\r\n       <use x=\"190.869141\" xlink:href=\"#DejaVuSans-48\"/>\r\n      </g>\r\n     </g>\r\n    </g>\r\n    <g id=\"ytick_4\">\r\n     <g id=\"line2d_10\">\r\n      <g>\r\n       <use style=\"stroke:#000000;stroke-width:0.8;\" x=\"39.65\" xlink:href=\"#m5870ac8ea0\" y=\"75.578627\"/>\r\n      </g>\r\n     </g>\r\n     <g id=\"text_10\">\r\n      <!-- 2550 -->\r\n      <g transform=\"translate(7.2 79.377846)scale(0.1 -0.1)\">\r\n       <use xlink:href=\"#DejaVuSans-50\"/>\r\n       <use x=\"63.623047\" xlink:href=\"#DejaVuSans-53\"/>\r\n       <use x=\"127.246094\" xlink:href=\"#DejaVuSans-53\"/>\r\n       <use x=\"190.869141\" xlink:href=\"#DejaVuSans-48\"/>\r\n      </g>\r\n     </g>\r\n    </g>\r\n    <g id=\"ytick_5\">\r\n     <g id=\"line2d_11\">\r\n      <g>\r\n       <use style=\"stroke:#000000;stroke-width:0.8;\" x=\"39.65\" xlink:href=\"#m5870ac8ea0\" y=\"36.028261\"/>\r\n      </g>\r\n     </g>\r\n     <g id=\"text_11\">\r\n      <!-- 2600 -->\r\n      <g transform=\"translate(7.2 39.82748)scale(0.1 -0.1)\">\r\n       <use xlink:href=\"#DejaVuSans-50\"/>\r\n       <use x=\"63.623047\" xlink:href=\"#DejaVuSans-54\"/>\r\n       <use x=\"127.246094\" xlink:href=\"#DejaVuSans-48\"/>\r\n       <use x=\"190.869141\" xlink:href=\"#DejaVuSans-48\"/>\r\n      </g>\r\n     </g>\r\n    </g>\r\n   </g>\r\n   <g id=\"line2d_12\">\r\n    <path clip-path=\"url(#p95cf1d6e28)\" d=\"M 54.868182 115.92 \r\nL 57.942562 115.92 \r\nL 61.016942 115.92 \r\nL 64.091322 115.92 \r\nL 67.165702 115.92 \r\nL 70.240083 115.92 \r\nL 73.314463 115.92 \r\nL 76.388843 115.92 \r\nL 79.463223 115.92 \r\nL 82.537603 115.92 \r\nL 85.611983 115.92 \r\nL 88.686364 115.92 \r\nL 91.760744 115.92 \r\nL 94.835124 115.92 \r\nL 97.909504 115.92 \r\nL 100.983884 115.92 \r\nL 104.058264 115.92 \r\nL 107.132645 115.92 \r\nL 110.207025 115.92 \r\nL 113.281405 115.92 \r\nL 116.355785 115.92 \r\nL 119.430165 115.92 \r\nL 122.504545 115.92 \r\nL 125.578926 115.92 \r\nL 128.653306 115.92 \r\nL 131.727686 115.92 \r\nL 134.802066 115.92 \r\nL 137.876446 115.92 \r\nL 140.950826 115.92 \r\nL 144.025207 115.92 \r\nL 147.099587 115.92 \r\nL 150.173967 115.92 \r\nL 153.248347 115.92 \r\nL 156.322727 115.92 \r\nL 159.397107 115.92 \r\nL 162.471488 115.92 \r\nL 165.545868 115.92 \r\nL 168.620248 115.92 \r\nL 171.694628 115.92 \r\nL 174.769008 115.92 \r\nL 177.843388 115.92 \r\nL 180.917769 115.92 \r\nL 183.992149 115.92 \r\nL 187.066529 115.92 \r\nL 190.140909 115.92 \r\nL 193.215289 115.92 \r\nL 196.289669 115.92 \r\nL 199.36405 115.92 \r\nL 202.43843 115.92 \r\nL 205.51281 115.92 \r\nL 208.58719 115.92 \r\nL 211.66157 115.92 \r\nL 214.73595 115.92 \r\nL 217.810331 115.92 \r\nL 220.884711 115.92 \r\nL 223.959091 115.92 \r\nL 227.033471 115.92 \r\nL 230.107851 115.92 \r\nL 233.182231 115.92 \r\nL 236.256612 115.92 \r\nL 239.330992 115.92 \r\nL 242.405372 115.92 \r\nL 245.479752 115.92 \r\nL 248.554132 115.92 \r\nL 251.628512 115.92 \r\nL 254.702893 115.92 \r\nL 257.777273 115.92 \r\nL 260.851653 115.92 \r\nL 263.926033 115.92 \r\nL 267.000413 115.92 \r\nL 270.074793 115.92 \r\nL 273.149174 115.92 \r\nL 276.223554 115.92 \r\nL 279.297934 115.92 \r\nL 282.372314 115.92 \r\nL 285.446694 115.92 \r\nL 288.521074 115.92 \r\nL 291.595455 115.92 \r\nL 294.669835 115.92 \r\nL 297.744215 115.92 \r\nL 300.818595 115.92 \r\nL 303.892975 115.92 \r\nL 306.967355 115.92 \r\nL 310.041736 115.92 \r\nL 313.116116 115.92 \r\nL 316.190496 115.92 \r\nL 319.264876 115.92 \r\nL 322.339256 115.92 \r\nL 325.413636 115.92 \r\nL 328.488017 115.92 \r\nL 331.562397 115.92 \r\nL 334.636777 115.92 \r\nL 337.711157 115.92 \r\nL 340.785537 115.92 \r\nL 343.859917 115.92 \r\nL 346.934298 115.92 \r\nL 350.008678 115.92 \r\nL 353.083058 115.92 \r\nL 356.157438 115.92 \r\nL 359.231818 115.92 \r\n\" style=\"fill:none;stroke:#1f77b4;stroke-linecap:square;stroke-width:1.5;\"/>\r\n   </g>\r\n   <g id=\"patch_3\">\r\n    <path d=\"M 39.65 224.64 \r\nL 39.65 7.2 \r\n\" style=\"fill:none;stroke:#000000;stroke-linecap:square;stroke-linejoin:miter;stroke-width:0.8;\"/>\r\n   </g>\r\n   <g id=\"patch_4\">\r\n    <path d=\"M 374.45 224.64 \r\nL 374.45 7.2 \r\n\" style=\"fill:none;stroke:#000000;stroke-linecap:square;stroke-linejoin:miter;stroke-width:0.8;\"/>\r\n   </g>\r\n   <g id=\"patch_5\">\r\n    <path d=\"M 39.65 224.64 \r\nL 374.45 224.64 \r\n\" style=\"fill:none;stroke:#000000;stroke-linecap:square;stroke-linejoin:miter;stroke-width:0.8;\"/>\r\n   </g>\r\n   <g id=\"patch_6\">\r\n    <path d=\"M 39.65 7.2 \r\nL 374.45 7.2 \r\n\" style=\"fill:none;stroke:#000000;stroke-linecap:square;stroke-linejoin:miter;stroke-width:0.8;\"/>\r\n   </g>\r\n  </g>\r\n </g>\r\n <defs>\r\n  <clipPath id=\"p95cf1d6e28\">\r\n   <rect height=\"217.44\" width=\"334.8\" x=\"39.65\" y=\"7.2\"/>\r\n  </clipPath>\r\n </defs>\r\n</svg>\r\n",
      "image/png": "[encoded data removed]"
     },
     "metadata": {
      "needs_background": "light"
     }
    }
   ],
   "source": [
    "df['price'].plot()"
   ]
  },
  {
   "cell_type": "code",
   "execution_count": null,
   "metadata": {},
   "outputs": [],
   "source": []
  }
 ]
}